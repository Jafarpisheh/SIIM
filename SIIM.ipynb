{
 "cells": [
  {
   "cell_type": "code",
   "execution_count": 3,
   "metadata": {},
   "outputs": [],
   "source": [
    "import pandas as pd\n",
    "import numpy as np\n",
    "from sklearn.model_selection import train_test_split, KFold, StratifiedKFold\n",
    "import matplotlib.pyplot as plt\n",
    "import tensorflow as tf\n",
    "from IPython.display import display, Image\n",
    "from tensorflow.keras.models import Sequential\n",
    "from tensorflow.keras.layers import Dense, Flatten, Conv2D, MaxPooling2D, Dropout, Input, BatchNormalization, Activation, concatenate\n",
    "from tensorflow import feature_column\n",
    "\n",
    "import datetime\n",
    "import os\n",
    "import gc\n",
    "\n",
    "import joblib\n",
    "\n",
    "import efficientnet.tfkeras as efn"
   ]
  },
  {
   "cell_type": "code",
   "execution_count": 4,
   "metadata": {},
   "outputs": [],
   "source": [
    "df_train = pd.read_csv('data/train.csv')"
   ]
  },
  {
   "cell_type": "code",
   "execution_count": 5,
   "metadata": {},
   "outputs": [
    {
     "output_type": "execute_result",
     "data": {
      "text/plain": "image_name          0\npatient_id          0\nsex                 0\nage                 0\nanatom              0\ndiagnosis           0\nbenign_malignant    0\ntarget              0\ndtype: int64"
     },
     "metadata": {},
     "execution_count": 5
    }
   ],
   "source": [
    "df_train.rename(columns={'age_approx':'age', 'anatom_site_general_challenge':'anatom'}, inplace = True)\n",
    "df_train.dropna(axis=0, inplace = True)\n",
    "df_train.isnull().sum()"
   ]
  },
  {
   "cell_type": "code",
   "execution_count": 6,
   "metadata": {},
   "outputs": [
    {
     "output_type": "execute_result",
     "data": {
      "text/plain": "     image_name  patient_id     sex   age           anatom diagnosis  \\\n0  ISIC_2637011  IP_7279968    male  45.0        head/neck   unknown   \n1  ISIC_0015719  IP_3075186  female  45.0  upper extremity   unknown   \n2  ISIC_0052212  IP_2842074  female  50.0  lower extremity     nevus   \n3  ISIC_0068279  IP_6890425  female  45.0        head/neck   unknown   \n4  ISIC_0074268  IP_8723313  female  55.0  upper extremity   unknown   \n\n  benign_malignant  target  \n0           benign       0  \n1           benign       0  \n2           benign       0  \n3           benign       0  \n4           benign       0  ",
      "text/html": "<div>\n<style scoped>\n    .dataframe tbody tr th:only-of-type {\n        vertical-align: middle;\n    }\n\n    .dataframe tbody tr th {\n        vertical-align: top;\n    }\n\n    .dataframe thead th {\n        text-align: right;\n    }\n</style>\n<table border=\"1\" class=\"dataframe\">\n  <thead>\n    <tr style=\"text-align: right;\">\n      <th></th>\n      <th>image_name</th>\n      <th>patient_id</th>\n      <th>sex</th>\n      <th>age</th>\n      <th>anatom</th>\n      <th>diagnosis</th>\n      <th>benign_malignant</th>\n      <th>target</th>\n    </tr>\n  </thead>\n  <tbody>\n    <tr>\n      <th>0</th>\n      <td>ISIC_2637011</td>\n      <td>IP_7279968</td>\n      <td>male</td>\n      <td>45.0</td>\n      <td>head/neck</td>\n      <td>unknown</td>\n      <td>benign</td>\n      <td>0</td>\n    </tr>\n    <tr>\n      <th>1</th>\n      <td>ISIC_0015719</td>\n      <td>IP_3075186</td>\n      <td>female</td>\n      <td>45.0</td>\n      <td>upper extremity</td>\n      <td>unknown</td>\n      <td>benign</td>\n      <td>0</td>\n    </tr>\n    <tr>\n      <th>2</th>\n      <td>ISIC_0052212</td>\n      <td>IP_2842074</td>\n      <td>female</td>\n      <td>50.0</td>\n      <td>lower extremity</td>\n      <td>nevus</td>\n      <td>benign</td>\n      <td>0</td>\n    </tr>\n    <tr>\n      <th>3</th>\n      <td>ISIC_0068279</td>\n      <td>IP_6890425</td>\n      <td>female</td>\n      <td>45.0</td>\n      <td>head/neck</td>\n      <td>unknown</td>\n      <td>benign</td>\n      <td>0</td>\n    </tr>\n    <tr>\n      <th>4</th>\n      <td>ISIC_0074268</td>\n      <td>IP_8723313</td>\n      <td>female</td>\n      <td>55.0</td>\n      <td>upper extremity</td>\n      <td>unknown</td>\n      <td>benign</td>\n      <td>0</td>\n    </tr>\n  </tbody>\n</table>\n</div>"
     },
     "metadata": {},
     "execution_count": 6
    }
   ],
   "source": [
    "df_train.head()"
   ]
  },
  {
   "cell_type": "code",
   "execution_count": 7,
   "metadata": {},
   "outputs": [
    {
     "output_type": "execute_result",
     "data": {
      "text/plain": "     image_name     sex   age           anatom  target\n0  ISIC_2637011    male  45.0        head/neck       0\n1  ISIC_0015719  female  45.0  upper extremity       0\n2  ISIC_0052212  female  50.0  lower extremity       0\n3  ISIC_0068279  female  45.0        head/neck       0\n4  ISIC_0074268  female  55.0  upper extremity       0",
      "text/html": "<div>\n<style scoped>\n    .dataframe tbody tr th:only-of-type {\n        vertical-align: middle;\n    }\n\n    .dataframe tbody tr th {\n        vertical-align: top;\n    }\n\n    .dataframe thead th {\n        text-align: right;\n    }\n</style>\n<table border=\"1\" class=\"dataframe\">\n  <thead>\n    <tr style=\"text-align: right;\">\n      <th></th>\n      <th>image_name</th>\n      <th>sex</th>\n      <th>age</th>\n      <th>anatom</th>\n      <th>target</th>\n    </tr>\n  </thead>\n  <tbody>\n    <tr>\n      <th>0</th>\n      <td>ISIC_2637011</td>\n      <td>male</td>\n      <td>45.0</td>\n      <td>head/neck</td>\n      <td>0</td>\n    </tr>\n    <tr>\n      <th>1</th>\n      <td>ISIC_0015719</td>\n      <td>female</td>\n      <td>45.0</td>\n      <td>upper extremity</td>\n      <td>0</td>\n    </tr>\n    <tr>\n      <th>2</th>\n      <td>ISIC_0052212</td>\n      <td>female</td>\n      <td>50.0</td>\n      <td>lower extremity</td>\n      <td>0</td>\n    </tr>\n    <tr>\n      <th>3</th>\n      <td>ISIC_0068279</td>\n      <td>female</td>\n      <td>45.0</td>\n      <td>head/neck</td>\n      <td>0</td>\n    </tr>\n    <tr>\n      <th>4</th>\n      <td>ISIC_0074268</td>\n      <td>female</td>\n      <td>55.0</td>\n      <td>upper extremity</td>\n      <td>0</td>\n    </tr>\n  </tbody>\n</table>\n</div>"
     },
     "metadata": {},
     "execution_count": 7
    }
   ],
   "source": [
    "Tabular_data = df_train.drop(['benign_malignant', 'patient_id', 'diagnosis'], axis = 1)\n",
    "targets = df_train.target\n",
    "Tabular_data.head()"
   ]
  },
  {
   "cell_type": "code",
   "execution_count": 8,
   "metadata": {},
   "outputs": [],
   "source": [
    "filenames = ['data/jpeg/train/' + fname + '.jpg' for fname in Tabular_data.image_name]"
   ]
  },
  {
   "cell_type": "code",
   "execution_count": 9,
   "metadata": {},
   "outputs": [],
   "source": [
    "Tabular_data = Tabular_data.drop(['image_name'], axis = 1)"
   ]
  },
  {
   "cell_type": "code",
   "execution_count": 10,
   "metadata": {},
   "outputs": [],
   "source": [
    "IMG_SIZE = 256\n",
    "def process_image(img_path):\n",
    "  \"\"\"\n",
    "  Takes an image file path and turns it into a Tensor.\n",
    "  \"\"\"\n",
    "  image = tf.io.read_file(img_path)\n",
    "  image = tf.image.decode_jpeg(image, channels=3)\n",
    "  image = tf.image.convert_image_dtype(image, tf.float32)\n",
    "  image = tf.image.resize(image, size=[IMG_SIZE, IMG_SIZE])\n",
    "  return image"
   ]
  },
  {
   "cell_type": "code",
   "execution_count": 11,
   "metadata": {},
   "outputs": [],
   "source": [
    "def create_df(image, tabular, target):\n",
    "    image = process_image(image)\n",
    "\n",
    "    return {'img_inp': image, 'tab_inp':  tabular}, target"
   ]
  },
  {
   "cell_type": "code",
   "execution_count": 12,
   "metadata": {},
   "outputs": [],
   "source": [
    "X = filenames\n",
    "#y = targets"
   ]
  },
  {
   "cell_type": "code",
   "execution_count": 142,
   "metadata": {},
   "outputs": [],
   "source": []
  },
  {
   "cell_type": "code",
   "execution_count": 13,
   "metadata": {},
   "outputs": [],
   "source": [
    "feature_columns = []\n",
    "feature_input = {}\n",
    "\n",
    "\n",
    "age = feature_column.numeric_column('age')\n",
    "feature_columns.append(age)\n",
    "feature_input['age'] = tf.keras.Input(shape = (1,), name = 'age')\n",
    "\n",
    "age_buckets = feature_column.bucketized_column(age, boundaries=[30, 45, 85])\n",
    "feature_columns.append(age_buckets)\n",
    "#feature_input['age_buckets'] = tf.keras.Input(shape = (3,), name = 'age_buckets')\n",
    "\n",
    "sex = feature_column.categorical_column_with_vocabulary_list('sex', ['male', 'female'])\n",
    "sex = feature_column.indicator_column(sex)\n",
    "feature_columns.append(sex)\n",
    "feature_input['sex'] = tf.keras.Input(shape = (1,), name = 'sex', dtype = tf.string)\n",
    "\n",
    "anatom = feature_column.categorical_column_with_hash_bucket('anatom', hash_bucket_size=6)\n",
    "anatom = feature_column.indicator_column(anatom)\n",
    "feature_columns.append(anatom)\n",
    "feature_input['anatom'] = tf.keras.Input(shape = (1,), name = 'anatom', dtype=tf.string)\n",
    "\n",
    "\n",
    "feature_layer = tf.keras.layers.DenseFeatures(feature_columns)\n",
    "#feature_layer_outputs = feature_layer(feature_input)"
   ]
  },
  {
   "cell_type": "code",
   "execution_count": 14,
   "metadata": {},
   "outputs": [
    {
     "output_type": "execute_result",
     "data": {
      "text/plain": "{'age': <tf.Tensor 'age:0' shape=(None, 1) dtype=float32>,\n 'sex': <tf.Tensor 'sex:0' shape=(None, 1) dtype=string>,\n 'anatom': <tf.Tensor 'anatom:0' shape=(None, 1) dtype=string>}"
     },
     "metadata": {},
     "execution_count": 14
    }
   ],
   "source": [
    "feature_input"
   ]
  },
  {
   "cell_type": "code",
   "execution_count": 15,
   "metadata": {},
   "outputs": [],
   "source": [
    "INPUT_SIZE = [IMG_SIZE,IMG_SIZE, 3]\n",
    "HIDDEN_SIZE1 = 256\n",
    "HIDDEN_SIZE2 = 128\n",
    "HIDDEN_SIZE3 = 64\n",
    "OUTPUT_SIZE = 2"
   ]
  },
  {
   "cell_type": "code",
   "execution_count": 16,
   "metadata": {},
   "outputs": [],
   "source": [
    "Total_num_img = len(df_train)\n",
    "Num_mlg = np.count_nonzero(df_train.target)\n",
    "Num_bng = Total_num_img - Num_mlg"
   ]
  },
  {
   "cell_type": "code",
   "execution_count": 17,
   "metadata": {},
   "outputs": [],
   "source": [
    "Weight_bng = 1/Num_bng * Total_num_img/2\n",
    "Weight_mlg = 1/Num_mlg * Total_num_img/2\n",
    "\n",
    "class_weights = {0: Weight_bng, 1: Weight_mlg}"
   ]
  },
  {
   "cell_type": "code",
   "execution_count": 18,
   "metadata": {},
   "outputs": [],
   "source": [
    "def load_model(model_path):\n",
    "  \"\"\"\n",
    "  Loads a saved model from a specified path.\n",
    "  \"\"\"\n",
    "  print(f\"Loading saved model from: {model_path}\")\n",
    "  model = tf.keras.models.load_model(model_path)\n",
    "  return model"
   ]
  },
  {
   "cell_type": "code",
   "execution_count": 19,
   "metadata": {},
   "outputs": [],
   "source": [
    "def create_model(retrain = False):\n",
    "    model = []\n",
    "    if retrain:\n",
    "        files = os.listdir('models')\n",
    "        paths = [os.path.join('models/', basename) for basename in files]\n",
    "        model_path = max(paths, key=os.path.getctime)\n",
    "        model = load_model(model_path)\n",
    "        #model.summary()\n",
    "    else:        \n",
    "        img_inp = Input(shape = INPUT_SIZE, name = 'img_inp')\n",
    "        #tab_inp = Input(shape = (), name = 'tab_inp', dtype = 'float32') \n",
    "\n",
    "        efnB3 = efn.EfficientNetB3(weights = 'imagenet', include_top = False)\n",
    "        x1 = efnB3(img_inp)\n",
    "        x1 = tf.keras.layers.GlobalAveragePooling2D()(x1)\n",
    "\n",
    "        #x1 = Flatten()(x1)\n",
    "\n",
    "        x2 = feature_layer(feature_input)\n",
    "        x2 = Dense(50)(x2)\n",
    "        x2 = BatchNormalization()(x2)\n",
    "        x2 = Activation('relu')(x2)   \n",
    "\n",
    "        concat = concatenate([x1, x2])\n",
    "        #concat = x1\n",
    "        concat = Dense(256, activation = 'relu')(concat)\n",
    "        concat = BatchNormalization()(concat)\n",
    "        concat = Dropout(0.2)(concat)\n",
    "\n",
    "        \n",
    "        concat = Dense(128, activation = 'relu')(concat)\n",
    "        concat = BatchNormalization()(concat)\n",
    "        concat = Dropout(0.2)(concat)\n",
    "\n",
    "        \n",
    "        concat = Dense(64, activation = 'relu')(concat)\n",
    "        concat = BatchNormalization()(concat)\n",
    "        concat = Dropout(0.2)(concat)\n",
    "\n",
    "\n",
    "        outputs = Dense(OUTPUT_SIZE, activation= 'softmax')(concat)\n",
    "\n",
    "        model = tf.keras.models.Model(inputs = [img_inp, feature_input], outputs = outputs)\n",
    "        #model = tf.keras.models.Model(inputs = img_inp, outputs = outputs)\n",
    "\n",
    "        model.compile(\n",
    "                    optimizer = tf.keras.optimizers.SGD(lr = 1e-3),\n",
    "                    loss = tf.keras.losses.BinaryCrossentropy(),\n",
    "                    metrics = [tf.keras.metrics.BinaryAccuracy(), tf.keras.metrics.AUC()])\n",
    "\n",
    "        #model.summary()\n",
    "    return model"
   ]
  },
  {
   "cell_type": "code",
   "execution_count": 20,
   "metadata": {
    "tags": []
   },
   "outputs": [],
   "source": [
    "#model = create_model(False)"
   ]
  },
  {
   "cell_type": "code",
   "execution_count": 21,
   "metadata": {
    "tags": []
   },
   "outputs": [],
   "source": [
    "#tf.keras.utils.plot_model(model, show_shapes=True)"
   ]
  },
  {
   "cell_type": "code",
   "execution_count": 22,
   "metadata": {
    "tags": []
   },
   "outputs": [],
   "source": [
    "# Load the TensorBoard notebook extension\n",
    "%load_ext tensorboard"
   ]
  },
  {
   "cell_type": "code",
   "execution_count": 23,
   "metadata": {},
   "outputs": [],
   "source": [
    "def create_tensorboard_callback():\n",
    "  # Create a log directory for storing TensorBoard logs\n",
    "  logdir = os.path.join(\"logs\",\n",
    "                        # Make it so the logs get tracked whenever we run an experiment\n",
    "                        datetime.datetime.now().strftime(\"%Y%m%d%H%M%S\"))\n",
    "  return tf.keras.callbacks.TensorBoard(logdir)"
   ]
  },
  {
   "cell_type": "code",
   "execution_count": 24,
   "metadata": {},
   "outputs": [],
   "source": [
    "tensorboard = create_tensorboard_callback()"
   ]
  },
  {
   "cell_type": "code",
   "execution_count": 25,
   "metadata": {},
   "outputs": [],
   "source": [
    "EarlyStopping = tf.keras.callbacks.EarlyStopping(monitor = 'val_loss', patience = 4)\n",
    "Rate = tf.keras.callbacks.ReduceLROnPlateau(monitor='val_loss', factor=0.1, patience=1, verbose=0, mode='auto', cooldown=0, min_lr=0)"
   ]
  },
  {
   "cell_type": "code",
   "execution_count": 27,
   "metadata": {},
   "outputs": [],
   "source": [
    "BATCH_SIZE = 45\n",
    "\n",
    "def get_data(X, Tabular_data):\n",
    "\n",
    "    x_train, x_val, tabular_train, tabular_val = train_test_split(X[:], Tabular_data[:], test_size = 0.2, random_state = 42)\n",
    "\n",
    "    y_train = pd.get_dummies(tabular_train.target)\n",
    "    tabular_train.drop('target', axis = 1, inplace = True)\n",
    "\n",
    "    y_val = pd.get_dummies(tabular_val.target)\n",
    "    tabular_val.drop('target', axis = 1, inplace = True)\n",
    "\n",
    "\n",
    "    \n",
    "    \n",
    "    train_data = tf.data.Dataset.from_tensor_slices((tf.constant(x_train),dict(tabular_train),tf.constant(y_train)))\n",
    "    train_data = train_data.map(create_df).shuffle(buffer_size = len(x_train))\n",
    "    train_data = train_data.batch(BATCH_SIZE)\n",
    "    \n",
    "    \n",
    "    val_data = tf.data.Dataset.from_tensor_slices((tf.constant(x_val),dict(tabular_val),tf.constant(y_val)))\n",
    "    val_data = val_data.map(create_df).batch(BATCH_SIZE)\n",
    "\n",
    "    return train_data, val_data"
   ]
  },
  {
   "cell_type": "code",
   "execution_count": 28,
   "metadata": {},
   "outputs": [],
   "source": [
    "def save_model_loop(model, suffix=None):\n",
    "  \"\"\"\n",
    "  Saves a given model in a models directory and appends a suffix (str)\n",
    "  for clarity and reuse.\n",
    "  \"\"\"\n",
    "  \n",
    "  model_path = \"models/model\" + \"-\" + suffix + \".h5\" # save format of model\n",
    "  print(f\"Saving model to: {model_path}...\")\n",
    "  model.save(model_path)\n",
    "  return model_path"
   ]
  },
  {
   "cell_type": "code",
   "execution_count": 29,
   "metadata": {},
   "outputs": [],
   "source": [
    "folds = 5\n",
    "kfolds = KFold(folds, shuffle = True, random_state = 42)"
   ]
  },
  {
   "cell_type": "code",
   "execution_count": 26,
   "metadata": {},
   "outputs": [
    {
     "output_type": "execute_result",
     "data": {
      "text/plain": "165"
     },
     "metadata": {},
     "execution_count": 26
    }
   ],
   "source": [
    "# How many rounds should we get the model to look through the data?\n",
    "NUM_EPOCHS = 100 #@param {type:\"slider\", min:10, max:100, step:10}\n",
    "gc.collect()"
   ]
  },
  {
   "cell_type": "code",
   "execution_count": 30,
   "metadata": {
    "tags": []
   },
   "outputs": [
    {
     "output_type": "stream",
     "name": "stdout",
     "text": "Loading saved model from: models/model-EfficientNet3B_Img_Tab_fold0 - Copy.h5\nEpoch 1/100\n116/116 [==============================] - 2088s 18s/step - loss: 0.7571 - binary_accuracy: 0.5694 - auc: 0.6111 - val_loss: 0.8856 - val_binary_accuracy: 0.4939 - val_auc: 0.5076 - lr: 0.0010\nEpoch 2/100\n116/116 [==============================] - 2048s 18s/step - loss: 0.6262 - binary_accuracy: 0.5772 - auc: 0.6251 - val_loss: 0.8345 - val_binary_accuracy: 0.5407 - val_auc: 0.5665 - lr: 0.0010\nEpoch 3/100\n116/116 [==============================] - 2068s 18s/step - loss: 0.6186 - binary_accuracy: 0.6011 - auc: 0.6391 - val_loss: 0.9850 - val_binary_accuracy: 0.4186 - val_auc: 0.3960 - lr: 0.0010\nEpoch 4/100\n116/116 [==============================] - 2051s 18s/step - loss: 0.5943 - binary_accuracy: 0.6061 - auc: 0.6512 - val_loss: 0.8507 - val_binary_accuracy: 0.5108 - val_auc: 0.5381 - lr: 1.0000e-04\nEpoch 5/100\n116/116 [==============================] - 2045s 18s/step - loss: 0.5611 - binary_accuracy: 0.6040 - auc: 0.6489 - val_loss: 0.7522 - val_binary_accuracy: 0.5891 - val_auc: 0.6305 - lr: 1.0000e-05\nEpoch 6/100\n116/116 [==============================] - 2072s 18s/step - loss: 0.5976 - binary_accuracy: 0.6042 - auc: 0.6496 - val_loss: 0.7208 - val_binary_accuracy: 0.6167 - val_auc: 0.6624 - lr: 1.0000e-05\nEpoch 7/100\n116/116 [==============================] - 2065s 18s/step - loss: 0.5974 - binary_accuracy: 0.6091 - auc: 0.6530 - val_loss: 0.7073 - val_binary_accuracy: 0.6206 - val_auc: 0.6733 - lr: 1.0000e-05\nEpoch 8/100\n116/116 [==============================] - 2047s 18s/step - loss: 0.6237 - binary_accuracy: 0.5986 - auc: 0.6532 - val_loss: 0.7116 - val_binary_accuracy: 0.6160 - val_auc: 0.6686 - lr: 1.0000e-05\nEpoch 9/100\n116/116 [==============================] - 2003s 17s/step - loss: 0.6146 - binary_accuracy: 0.6055 - auc: 0.6524 - val_loss: 0.7096 - val_binary_accuracy: 0.6252 - val_auc: 0.6713 - lr: 1.0000e-06\nEpoch 10/100\n116/116 [==============================] - 2011s 17s/step - loss: 0.5790 - binary_accuracy: 0.6105 - auc: 0.6548 - val_loss: 0.7054 - val_binary_accuracy: 0.6237 - val_auc: 0.6742 - lr: 1.0000e-07\nEpoch 11/100\n116/116 [==============================] - 2021s 17s/step - loss: 0.5575 - binary_accuracy: 0.6007 - auc: 0.6527 - val_loss: 0.7101 - val_binary_accuracy: 0.6214 - val_auc: 0.6720 - lr: 1.0000e-07\nEpoch 12/100\n116/116 [==============================] - 2016s 17s/step - loss: 0.5853 - binary_accuracy: 0.6024 - auc: 0.6531 - val_loss: 0.7144 - val_binary_accuracy: 0.6198 - val_auc: 0.6678 - lr: 1.0000e-08\nEpoch 13/100\n116/116 [==============================] - 2044s 18s/step - loss: 0.5596 - binary_accuracy: 0.5990 - auc: 0.6506 - val_loss: 0.7100 - val_binary_accuracy: 0.6190 - val_auc: 0.6703 - lr: 1.0000e-09\nEpoch 14/100\n116/116 [==============================] - 2040s 18s/step - loss: 0.5684 - binary_accuracy: 0.6026 - auc: 0.6520 - val_loss: 0.7149 - val_binary_accuracy: 0.6175 - val_auc: 0.6663 - lr: 1.0000e-10\nSaving model to: models/model-EfficientNet3B_Img_Tab_fold1.h5...\nLoading saved model from: models/model-EfficientNet3B_Img_Tab_fold1.h5\nEpoch 1/100\n116/116 [==============================] - 2131s 18s/step - loss: 0.6747 - binary_accuracy: 0.6001 - auc_1: 0.6467 - val_loss: 0.8218 - val_binary_accuracy: 0.5522 - val_auc_1: 0.5793 - lr: 5.0000e-04\nEpoch 2/100\n116/116 [==============================] - 2120s 18s/step - loss: 0.6254 - binary_accuracy: 0.6074 - auc_1: 0.6522 - val_loss: 0.8061 - val_binary_accuracy: 0.5653 - val_auc_1: 0.6148 - lr: 5.0000e-04\nEpoch 3/100\n116/116 [==============================] - 2129s 18s/step - loss: 0.5894 - binary_accuracy: 0.6120 - auc_1: 0.6587 - val_loss: 0.7501 - val_binary_accuracy: 0.5975 - val_auc_1: 0.6446 - lr: 5.0000e-04\nEpoch 4/100\n116/116 [==============================] - 2139s 18s/step - loss: 0.5993 - binary_accuracy: 0.6115 - auc_1: 0.6575 - val_loss: 0.8773 - val_binary_accuracy: 0.5161 - val_auc_1: 0.5341 - lr: 5.0000e-04\nEpoch 5/100\n116/116 [==============================] - 2141s 18s/step - loss: 0.6078 - binary_accuracy: 0.6182 - auc_1: 0.6696 - val_loss: 0.7710 - val_binary_accuracy: 0.5860 - val_auc_1: 0.6225 - lr: 5.0000e-05\nEpoch 6/100\n116/116 [==============================] - 2155s 19s/step - loss: 0.5608 - binary_accuracy: 0.6143 - auc_1: 0.6674 - val_loss: 0.7344 - val_binary_accuracy: 0.6045 - val_auc_1: 0.6540 - lr: 5.0000e-06\nEpoch 7/100\n116/116 [==============================] - 2152s 19s/step - loss: 0.5841 - binary_accuracy: 0.6134 - auc_1: 0.6671 - val_loss: 0.7319 - val_binary_accuracy: 0.6037 - val_auc_1: 0.6578 - lr: 5.0000e-06\nEpoch 8/100\n116/116 [==============================] - 2163s 19s/step - loss: 0.5862 - binary_accuracy: 0.6197 - auc_1: 0.6730 - val_loss: 0.7333 - val_binary_accuracy: 0.6029 - val_auc_1: 0.6576 - lr: 5.0000e-06\nEpoch 9/100\n116/116 [==============================] - 2180s 19s/step - loss: 0.5995 - binary_accuracy: 0.6157 - auc_1: 0.6649 - val_loss: 0.7227 - val_binary_accuracy: 0.6052 - val_auc_1: 0.6644 - lr: 5.0000e-07\nEpoch 10/100\n116/116 [==============================] - 2942s 25s/step - loss: 0.5259 - binary_accuracy: 0.6176 - auc_1: 0.6731 - val_loss: 0.7281 - val_binary_accuracy: 0.6052 - val_auc_1: 0.6610 - lr: 5.0000e-07\nEpoch 11/100\n116/116 [==============================] - 2171s 19s/step - loss: 0.5923 - binary_accuracy: 0.6099 - auc_1: 0.6687 - val_loss: 0.7209 - val_binary_accuracy: 0.6029 - val_auc_1: 0.6655 - lr: 5.0000e-08\nEpoch 12/100\n116/116 [==============================] - 2170s 19s/step - loss: 0.5596 - binary_accuracy: 0.6128 - auc_1: 0.6729 - val_loss: 0.7204 - val_binary_accuracy: 0.6075 - val_auc_1: 0.6663 - lr: 5.0000e-08\nEpoch 13/100\n116/116 [==============================] - 2166s 19s/step - loss: 0.5691 - binary_accuracy: 0.6188 - auc_1: 0.6705 - val_loss: 0.7227 - val_binary_accuracy: 0.6075 - val_auc_1: 0.6653 - lr: 5.0000e-08\nEpoch 14/100\n116/116 [==============================] - 2182s 19s/step - loss: 0.5585 - binary_accuracy: 0.6072 - auc_1: 0.6624 - val_loss: 0.7200 - val_binary_accuracy: 0.6029 - val_auc_1: 0.6671 - lr: 5.0000e-09\nEpoch 15/100\n116/116 [==============================] - 2220s 19s/step - loss: 0.5686 - binary_accuracy: 0.6155 - auc_1: 0.6718 - val_loss: 0.7193 - val_binary_accuracy: 0.6060 - val_auc_1: 0.6673 - lr: 5.0000e-09\nEpoch 16/100\n116/116 [==============================] - 2196s 19s/step - loss: 0.5530 - binary_accuracy: 0.6238 - auc_1: 0.6717 - val_loss: 0.7205 - val_binary_accuracy: 0.6060 - val_auc_1: 0.6671 - lr: 5.0000e-09\nEpoch 17/100\n116/116 [==============================] - 2177s 19s/step - loss: 0.5503 - binary_accuracy: 0.6057 - auc_1: 0.6641 - val_loss: 0.7290 - val_binary_accuracy: 0.5998 - val_auc_1: 0.6601 - lr: 5.0000e-10\nEpoch 18/100\n116/116 [==============================] - 2171s 19s/step - loss: 0.6031 - binary_accuracy: 0.6180 - auc_1: 0.6696 - val_loss: 0.7239 - val_binary_accuracy: 0.6068 - val_auc_1: 0.6650 - lr: 5.0000e-11\nEpoch 19/100\n116/116 [==============================] - 2182s 19s/step - loss: 0.5554 - binary_accuracy: 0.6205 - auc_1: 0.6729 - val_loss: 0.7291 - val_binary_accuracy: 0.6022 - val_auc_1: 0.6605 - lr: 5.0000e-12\nSaving model to: models/model-EfficientNet3B_Img_Tab_fold2.h5...\nLoading saved model from: models/model-EfficientNet3B_Img_Tab_fold2.h5\nEpoch 1/100\n116/116 [==============================] - 3122s 27s/step - loss: 0.6776 - binary_accuracy: 0.6059 - auc_2: 0.6616 - val_loss: 0.7686 - val_binary_accuracy: 0.5822 - val_auc_2: 0.6253 - lr: 3.3333e-04\nEpoch 2/100\n116/116 [==============================] - 2336s 20s/step - loss: 0.6350 - binary_accuracy: 0.6189 - auc_2: 0.6686 - val_loss: 0.6816 - val_binary_accuracy: 0.6367 - val_auc_2: 0.7057 - lr: 3.3333e-04\nEpoch 3/100\n116/116 [==============================] - 2307s 20s/step - loss: 0.6476 - binary_accuracy: 0.6113 - auc_2: 0.6677 - val_loss: 0.6866 - val_binary_accuracy: 0.6298 - val_auc_2: 0.6942 - lr: 3.3333e-04\nEpoch 4/100\n116/116 [==============================] - 2351s 20s/step - loss: 0.5983 - binary_accuracy: 0.6188 - auc_2: 0.6719 - val_loss: 0.6608 - val_binary_accuracy: 0.6528 - val_auc_2: 0.7187 - lr: 3.3333e-05\nEpoch 5/100\n116/116 [==============================] - 2336s 20s/step - loss: 0.6298 - binary_accuracy: 0.6214 - auc_2: 0.6716 - val_loss: 0.6580 - val_binary_accuracy: 0.6544 - val_auc_2: 0.7241 - lr: 3.3333e-05\nEpoch 6/100\n116/116 [==============================] - 2263s 20s/step - loss: 0.5335 - binary_accuracy: 0.6255 - auc_2: 0.6763 - val_loss: 0.6586 - val_binary_accuracy: 0.6536 - val_auc_2: 0.7226 - lr: 3.3333e-05\nEpoch 7/100\n116/116 [==============================] - 2349s 20s/step - loss: 0.6197 - binary_accuracy: 0.6180 - auc_2: 0.6726 - val_loss: 0.6637 - val_binary_accuracy: 0.6475 - val_auc_2: 0.7203 - lr: 3.3333e-06\nEpoch 8/100\n116/116 [==============================] - 2339s 20s/step - loss: 0.5793 - binary_accuracy: 0.6153 - auc_2: 0.6705 - val_loss: 0.6608 - val_binary_accuracy: 0.6490 - val_auc_2: 0.7219 - lr: 3.3333e-07\nEpoch 9/100\n116/116 [==============================] - 2263s 20s/step - loss: 0.5908 - binary_accuracy: 0.6189 - auc_2: 0.6724 - val_loss: 0.6608 - val_binary_accuracy: 0.6505 - val_auc_2: 0.7220 - lr: 3.3333e-08\nSaving model to: models/model-EfficientNet3B_Img_Tab_fold3.h5...\nLoading saved model from: models/model-EfficientNet3B_Img_Tab_fold3.h5\nEpoch 1/100\n116/116 [==============================] - 2590s 22s/step - loss: 0.6134 - binary_accuracy: 0.6195 - auc_3: 0.6715 - val_loss: 0.7433 - val_binary_accuracy: 0.6129 - val_auc_3: 0.6510 - lr: 2.5000e-04\nEpoch 2/100\n116/116 [==============================] - 2564s 22s/step - loss: 0.5592 - binary_accuracy: 0.6174 - auc_3: 0.6716 - val_loss: 0.6971 - val_binary_accuracy: 0.6429 - val_auc_3: 0.6983 - lr: 2.5000e-04\nEpoch 3/100\n116/116 [==============================] - 2559s 22s/step - loss: 0.5818 - binary_accuracy: 0.6241 - auc_3: 0.6745 - val_loss: 0.6848 - val_binary_accuracy: 0.6367 - val_auc_3: 0.7077 - lr: 2.5000e-04\nEpoch 4/100\n116/116 [==============================] - 2560s 22s/step - loss: 0.5588 - binary_accuracy: 0.6266 - auc_3: 0.6855 - val_loss: 0.7047 - val_binary_accuracy: 0.6237 - val_auc_3: 0.6885 - lr: 2.5000e-04\nEpoch 5/100\n116/116 [==============================] - 2546s 22s/step - loss: 0.5475 - binary_accuracy: 0.6186 - auc_3: 0.6787 - val_loss: 0.7157 - val_binary_accuracy: 0.6244 - val_auc_3: 0.6826 - lr: 2.5000e-05\nEpoch 6/100\n116/116 [==============================] - 2567s 22s/step - loss: 0.5677 - binary_accuracy: 0.6289 - auc_3: 0.6822 - val_loss: 0.7150 - val_binary_accuracy: 0.6214 - val_auc_3: 0.6826 - lr: 2.5000e-06\nEpoch 7/100\n116/116 [==============================] - 2568s 22s/step - loss: 0.5680 - binary_accuracy: 0.6209 - auc_3: 0.6782 - val_loss: 0.7171 - val_binary_accuracy: 0.6206 - val_auc_3: 0.6803 - lr: 2.5000e-07\nSaving model to: models/model-EfficientNet3B_Img_Tab_fold4.h5...\n"
    }
   ],
   "source": [
    "targets_temp = Tabular_data.target\n",
    "models = []\n",
    "History = []\n",
    "# Set number of images to use for experimenting\n",
    "First_Image = 0\n",
    "Last_Image = 30\n",
    "\n",
    "for fold, (_, target_idx) in enumerate(kfolds.split(targets_temp)):\n",
    "    X_fold = [X[i] for i in list(target_idx)]\n",
    "    Tabular_fold = Tabular_data.iloc[target_idx]\n",
    "    [train_data, val_data] = get_data(X_fold, Tabular_fold)\n",
    "    if fold == 0:\n",
    "        continue\n",
    "        model = create_model(False)\n",
    "    else:\n",
    "        model = create_model(True)\n",
    "        model.compile(\n",
    "                    optimizer = tf.keras.optimizers.SGD(lr = 1e-3/fold),\n",
    "                    loss = tf.keras.losses.BinaryCrossentropy(),\n",
    "                    metrics = [tf.keras.metrics.BinaryAccuracy(), tf.keras.metrics.AUC()])\n",
    "\n",
    "    history = model.fit(train_data, epochs=NUM_EPOCHS, validation_data=val_data, validation_freq=1, callbacks=[EarlyStopping, Rate,tensorboard], class_weight = class_weights)\n",
    "    History.append(history)\n",
    "    sfx = \"EfficientNet3B_Img_Tab_fold{}\".format(fold)\n",
    "    save_model_loop(model, suffix=sfx)\n",
    "\n",
    "    "
   ]
  },
  {
   "cell_type": "code",
   "execution_count": 31,
   "metadata": {
    "tags": []
   },
   "outputs": [],
   "source": [
    "#history = model.fit(train_data, epochs=NUM_EPOCHS, validation_data=val_data, validation_freq=1, callbacks=[EarlyStopping, Rate,tensorboard], class_weight = class_weights)"
   ]
  },
  {
   "cell_type": "code",
   "execution_count": 32,
   "metadata": {},
   "outputs": [],
   "source": [
    "#%tensorboard --logdir logs"
   ]
  },
  {
   "cell_type": "code",
   "execution_count": 36,
   "metadata": {},
   "outputs": [
    {
     "output_type": "display_data",
     "data": {
      "text/plain": "<Figure size 432x288 with 1 Axes>",
      "image/svg+xml": "<?xml version=\"1.0\" encoding=\"utf-8\" standalone=\"no\"?>\r\n<!DOCTYPE svg PUBLIC \"-//W3C//DTD SVG 1.1//EN\"\r\n  \"http://www.w3.org/Graphics/SVG/1.1/DTD/svg11.dtd\">\r\n<!-- Created with matplotlib (https://matplotlib.org/) -->\r\n<svg height=\"263.63625pt\" version=\"1.1\" viewBox=\"0 0 384.828125 263.63625\" width=\"384.828125pt\" xmlns=\"http://www.w3.org/2000/svg\" xmlns:xlink=\"http://www.w3.org/1999/xlink\">\r\n <defs>\r\n  <style type=\"text/css\">\r\n*{stroke-linecap:butt;stroke-linejoin:round;}\r\n  </style>\r\n </defs>\r\n <g id=\"figure_1\">\r\n  <g id=\"patch_1\">\r\n   <path d=\"M 0 263.63625 \r\nL 384.828125 263.63625 \r\nL 384.828125 0 \r\nL 0 0 \r\nz\r\n\" style=\"fill:none;\"/>\r\n  </g>\r\n  <g id=\"axes_1\">\r\n   <g id=\"patch_2\">\r\n    <path d=\"M 42.828125 239.758125 \r\nL 377.628125 239.758125 \r\nL 377.628125 22.318125 \r\nL 42.828125 22.318125 \r\nz\r\n\" style=\"fill:#ffffff;\"/>\r\n   </g>\r\n   <g id=\"matplotlib.axis_1\">\r\n    <g id=\"xtick_1\">\r\n     <g id=\"line2d_1\">\r\n      <defs>\r\n       <path d=\"M 0 0 \r\nL 0 3.5 \r\n\" id=\"m374e9950fc\" style=\"stroke:#000000;stroke-width:0.8;\"/>\r\n      </defs>\r\n      <g>\r\n       <use style=\"stroke:#000000;stroke-width:0.8;\" x=\"58.046307\" xlink:href=\"#m374e9950fc\" y=\"239.758125\"/>\r\n      </g>\r\n     </g>\r\n     <g id=\"text_1\">\r\n      <!-- 0 -->\r\n      <defs>\r\n       <path d=\"M 31.78125 66.40625 \r\nQ 24.171875 66.40625 20.328125 58.90625 \r\nQ 16.5 51.421875 16.5 36.375 \r\nQ 16.5 21.390625 20.328125 13.890625 \r\nQ 24.171875 6.390625 31.78125 6.390625 \r\nQ 39.453125 6.390625 43.28125 13.890625 \r\nQ 47.125 21.390625 47.125 36.375 \r\nQ 47.125 51.421875 43.28125 58.90625 \r\nQ 39.453125 66.40625 31.78125 66.40625 \r\nz\r\nM 31.78125 74.21875 \r\nQ 44.046875 74.21875 50.515625 64.515625 \r\nQ 56.984375 54.828125 56.984375 36.375 \r\nQ 56.984375 17.96875 50.515625 8.265625 \r\nQ 44.046875 -1.421875 31.78125 -1.421875 \r\nQ 19.53125 -1.421875 13.0625 8.265625 \r\nQ 6.59375 17.96875 6.59375 36.375 \r\nQ 6.59375 54.828125 13.0625 64.515625 \r\nQ 19.53125 74.21875 31.78125 74.21875 \r\nz\r\n\" id=\"DejaVuSans-48\"/>\r\n      </defs>\r\n      <g transform=\"translate(54.865057 254.356563)scale(0.1 -0.1)\">\r\n       <use xlink:href=\"#DejaVuSans-48\"/>\r\n      </g>\r\n     </g>\r\n    </g>\r\n    <g id=\"xtick_2\">\r\n     <g id=\"line2d_2\">\r\n      <g>\r\n       <use style=\"stroke:#000000;stroke-width:0.8;\" x=\"108.77358\" xlink:href=\"#m374e9950fc\" y=\"239.758125\"/>\r\n      </g>\r\n     </g>\r\n     <g id=\"text_2\">\r\n      <!-- 1 -->\r\n      <defs>\r\n       <path d=\"M 12.40625 8.296875 \r\nL 28.515625 8.296875 \r\nL 28.515625 63.921875 \r\nL 10.984375 60.40625 \r\nL 10.984375 69.390625 \r\nL 28.421875 72.90625 \r\nL 38.28125 72.90625 \r\nL 38.28125 8.296875 \r\nL 54.390625 8.296875 \r\nL 54.390625 0 \r\nL 12.40625 0 \r\nz\r\n\" id=\"DejaVuSans-49\"/>\r\n      </defs>\r\n      <g transform=\"translate(105.59233 254.356563)scale(0.1 -0.1)\">\r\n       <use xlink:href=\"#DejaVuSans-49\"/>\r\n      </g>\r\n     </g>\r\n    </g>\r\n    <g id=\"xtick_3\">\r\n     <g id=\"line2d_3\">\r\n      <g>\r\n       <use style=\"stroke:#000000;stroke-width:0.8;\" x=\"159.500852\" xlink:href=\"#m374e9950fc\" y=\"239.758125\"/>\r\n      </g>\r\n     </g>\r\n     <g id=\"text_3\">\r\n      <!-- 2 -->\r\n      <defs>\r\n       <path d=\"M 19.1875 8.296875 \r\nL 53.609375 8.296875 \r\nL 53.609375 0 \r\nL 7.328125 0 \r\nL 7.328125 8.296875 \r\nQ 12.9375 14.109375 22.625 23.890625 \r\nQ 32.328125 33.6875 34.8125 36.53125 \r\nQ 39.546875 41.84375 41.421875 45.53125 \r\nQ 43.3125 49.21875 43.3125 52.78125 \r\nQ 43.3125 58.59375 39.234375 62.25 \r\nQ 35.15625 65.921875 28.609375 65.921875 \r\nQ 23.96875 65.921875 18.8125 64.3125 \r\nQ 13.671875 62.703125 7.8125 59.421875 \r\nL 7.8125 69.390625 \r\nQ 13.765625 71.78125 18.9375 73 \r\nQ 24.125 74.21875 28.421875 74.21875 \r\nQ 39.75 74.21875 46.484375 68.546875 \r\nQ 53.21875 62.890625 53.21875 53.421875 \r\nQ 53.21875 48.921875 51.53125 44.890625 \r\nQ 49.859375 40.875 45.40625 35.40625 \r\nQ 44.1875 33.984375 37.640625 27.21875 \r\nQ 31.109375 20.453125 19.1875 8.296875 \r\nz\r\n\" id=\"DejaVuSans-50\"/>\r\n      </defs>\r\n      <g transform=\"translate(156.319602 254.356563)scale(0.1 -0.1)\">\r\n       <use xlink:href=\"#DejaVuSans-50\"/>\r\n      </g>\r\n     </g>\r\n    </g>\r\n    <g id=\"xtick_4\">\r\n     <g id=\"line2d_4\">\r\n      <g>\r\n       <use style=\"stroke:#000000;stroke-width:0.8;\" x=\"210.228125\" xlink:href=\"#m374e9950fc\" y=\"239.758125\"/>\r\n      </g>\r\n     </g>\r\n     <g id=\"text_4\">\r\n      <!-- 3 -->\r\n      <defs>\r\n       <path d=\"M 40.578125 39.3125 \r\nQ 47.65625 37.796875 51.625 33 \r\nQ 55.609375 28.21875 55.609375 21.1875 \r\nQ 55.609375 10.40625 48.1875 4.484375 \r\nQ 40.765625 -1.421875 27.09375 -1.421875 \r\nQ 22.515625 -1.421875 17.65625 -0.515625 \r\nQ 12.796875 0.390625 7.625 2.203125 \r\nL 7.625 11.71875 \r\nQ 11.71875 9.328125 16.59375 8.109375 \r\nQ 21.484375 6.890625 26.8125 6.890625 \r\nQ 36.078125 6.890625 40.9375 10.546875 \r\nQ 45.796875 14.203125 45.796875 21.1875 \r\nQ 45.796875 27.640625 41.28125 31.265625 \r\nQ 36.765625 34.90625 28.71875 34.90625 \r\nL 20.21875 34.90625 \r\nL 20.21875 43.015625 \r\nL 29.109375 43.015625 \r\nQ 36.375 43.015625 40.234375 45.921875 \r\nQ 44.09375 48.828125 44.09375 54.296875 \r\nQ 44.09375 59.90625 40.109375 62.90625 \r\nQ 36.140625 65.921875 28.71875 65.921875 \r\nQ 24.65625 65.921875 20.015625 65.03125 \r\nQ 15.375 64.15625 9.8125 62.3125 \r\nL 9.8125 71.09375 \r\nQ 15.4375 72.65625 20.34375 73.4375 \r\nQ 25.25 74.21875 29.59375 74.21875 \r\nQ 40.828125 74.21875 47.359375 69.109375 \r\nQ 53.90625 64.015625 53.90625 55.328125 \r\nQ 53.90625 49.265625 50.4375 45.09375 \r\nQ 46.96875 40.921875 40.578125 39.3125 \r\nz\r\n\" id=\"DejaVuSans-51\"/>\r\n      </defs>\r\n      <g transform=\"translate(207.046875 254.356563)scale(0.1 -0.1)\">\r\n       <use xlink:href=\"#DejaVuSans-51\"/>\r\n      </g>\r\n     </g>\r\n    </g>\r\n    <g id=\"xtick_5\">\r\n     <g id=\"line2d_5\">\r\n      <g>\r\n       <use style=\"stroke:#000000;stroke-width:0.8;\" x=\"260.955398\" xlink:href=\"#m374e9950fc\" y=\"239.758125\"/>\r\n      </g>\r\n     </g>\r\n     <g id=\"text_5\">\r\n      <!-- 4 -->\r\n      <defs>\r\n       <path d=\"M 37.796875 64.3125 \r\nL 12.890625 25.390625 \r\nL 37.796875 25.390625 \r\nz\r\nM 35.203125 72.90625 \r\nL 47.609375 72.90625 \r\nL 47.609375 25.390625 \r\nL 58.015625 25.390625 \r\nL 58.015625 17.1875 \r\nL 47.609375 17.1875 \r\nL 47.609375 0 \r\nL 37.796875 0 \r\nL 37.796875 17.1875 \r\nL 4.890625 17.1875 \r\nL 4.890625 26.703125 \r\nz\r\n\" id=\"DejaVuSans-52\"/>\r\n      </defs>\r\n      <g transform=\"translate(257.774148 254.356563)scale(0.1 -0.1)\">\r\n       <use xlink:href=\"#DejaVuSans-52\"/>\r\n      </g>\r\n     </g>\r\n    </g>\r\n    <g id=\"xtick_6\">\r\n     <g id=\"line2d_6\">\r\n      <g>\r\n       <use style=\"stroke:#000000;stroke-width:0.8;\" x=\"311.68267\" xlink:href=\"#m374e9950fc\" y=\"239.758125\"/>\r\n      </g>\r\n     </g>\r\n     <g id=\"text_6\">\r\n      <!-- 5 -->\r\n      <defs>\r\n       <path d=\"M 10.796875 72.90625 \r\nL 49.515625 72.90625 \r\nL 49.515625 64.59375 \r\nL 19.828125 64.59375 \r\nL 19.828125 46.734375 \r\nQ 21.96875 47.46875 24.109375 47.828125 \r\nQ 26.265625 48.1875 28.421875 48.1875 \r\nQ 40.625 48.1875 47.75 41.5 \r\nQ 54.890625 34.8125 54.890625 23.390625 \r\nQ 54.890625 11.625 47.5625 5.09375 \r\nQ 40.234375 -1.421875 26.90625 -1.421875 \r\nQ 22.3125 -1.421875 17.546875 -0.640625 \r\nQ 12.796875 0.140625 7.71875 1.703125 \r\nL 7.71875 11.625 \r\nQ 12.109375 9.234375 16.796875 8.0625 \r\nQ 21.484375 6.890625 26.703125 6.890625 \r\nQ 35.15625 6.890625 40.078125 11.328125 \r\nQ 45.015625 15.765625 45.015625 23.390625 \r\nQ 45.015625 31 40.078125 35.4375 \r\nQ 35.15625 39.890625 26.703125 39.890625 \r\nQ 22.75 39.890625 18.8125 39.015625 \r\nQ 14.890625 38.140625 10.796875 36.28125 \r\nz\r\n\" id=\"DejaVuSans-53\"/>\r\n      </defs>\r\n      <g transform=\"translate(308.50142 254.356563)scale(0.1 -0.1)\">\r\n       <use xlink:href=\"#DejaVuSans-53\"/>\r\n      </g>\r\n     </g>\r\n    </g>\r\n    <g id=\"xtick_7\">\r\n     <g id=\"line2d_7\">\r\n      <g>\r\n       <use style=\"stroke:#000000;stroke-width:0.8;\" x=\"362.409943\" xlink:href=\"#m374e9950fc\" y=\"239.758125\"/>\r\n      </g>\r\n     </g>\r\n     <g id=\"text_7\">\r\n      <!-- 6 -->\r\n      <defs>\r\n       <path d=\"M 33.015625 40.375 \r\nQ 26.375 40.375 22.484375 35.828125 \r\nQ 18.609375 31.296875 18.609375 23.390625 \r\nQ 18.609375 15.53125 22.484375 10.953125 \r\nQ 26.375 6.390625 33.015625 6.390625 \r\nQ 39.65625 6.390625 43.53125 10.953125 \r\nQ 47.40625 15.53125 47.40625 23.390625 \r\nQ 47.40625 31.296875 43.53125 35.828125 \r\nQ 39.65625 40.375 33.015625 40.375 \r\nz\r\nM 52.59375 71.296875 \r\nL 52.59375 62.3125 \r\nQ 48.875 64.0625 45.09375 64.984375 \r\nQ 41.3125 65.921875 37.59375 65.921875 \r\nQ 27.828125 65.921875 22.671875 59.328125 \r\nQ 17.53125 52.734375 16.796875 39.40625 \r\nQ 19.671875 43.65625 24.015625 45.921875 \r\nQ 28.375 48.1875 33.59375 48.1875 \r\nQ 44.578125 48.1875 50.953125 41.515625 \r\nQ 57.328125 34.859375 57.328125 23.390625 \r\nQ 57.328125 12.15625 50.6875 5.359375 \r\nQ 44.046875 -1.421875 33.015625 -1.421875 \r\nQ 20.359375 -1.421875 13.671875 8.265625 \r\nQ 6.984375 17.96875 6.984375 36.375 \r\nQ 6.984375 53.65625 15.1875 63.9375 \r\nQ 23.390625 74.21875 37.203125 74.21875 \r\nQ 40.921875 74.21875 44.703125 73.484375 \r\nQ 48.484375 72.75 52.59375 71.296875 \r\nz\r\n\" id=\"DejaVuSans-54\"/>\r\n      </defs>\r\n      <g transform=\"translate(359.228693 254.356563)scale(0.1 -0.1)\">\r\n       <use xlink:href=\"#DejaVuSans-54\"/>\r\n      </g>\r\n     </g>\r\n    </g>\r\n   </g>\r\n   <g id=\"matplotlib.axis_2\">\r\n    <g id=\"ytick_1\">\r\n     <g id=\"line2d_8\">\r\n      <defs>\r\n       <path d=\"M 0 0 \r\nL -3.5 0 \r\n\" id=\"m86a868c881\" style=\"stroke:#000000;stroke-width:0.8;\"/>\r\n      </defs>\r\n      <g>\r\n       <use style=\"stroke:#000000;stroke-width:0.8;\" x=\"42.828125\" xlink:href=\"#m86a868c881\" y=\"227.323111\"/>\r\n      </g>\r\n     </g>\r\n     <g id=\"text_8\">\r\n      <!-- 0.550 -->\r\n      <defs>\r\n       <path d=\"M 10.6875 12.40625 \r\nL 21 12.40625 \r\nL 21 0 \r\nL 10.6875 0 \r\nz\r\n\" id=\"DejaVuSans-46\"/>\r\n      </defs>\r\n      <g transform=\"translate(7.2 231.12233)scale(0.1 -0.1)\">\r\n       <use xlink:href=\"#DejaVuSans-48\"/>\r\n       <use x=\"63.623047\" xlink:href=\"#DejaVuSans-46\"/>\r\n       <use x=\"95.410156\" xlink:href=\"#DejaVuSans-53\"/>\r\n       <use x=\"159.033203\" xlink:href=\"#DejaVuSans-53\"/>\r\n       <use x=\"222.65625\" xlink:href=\"#DejaVuSans-48\"/>\r\n      </g>\r\n     </g>\r\n    </g>\r\n    <g id=\"ytick_2\">\r\n     <g id=\"line2d_9\">\r\n      <g>\r\n       <use style=\"stroke:#000000;stroke-width:0.8;\" x=\"42.828125\" xlink:href=\"#m86a868c881\" y=\"202.085375\"/>\r\n      </g>\r\n     </g>\r\n     <g id=\"text_9\">\r\n      <!-- 0.575 -->\r\n      <defs>\r\n       <path d=\"M 8.203125 72.90625 \r\nL 55.078125 72.90625 \r\nL 55.078125 68.703125 \r\nL 28.609375 0 \r\nL 18.3125 0 \r\nL 43.21875 64.59375 \r\nL 8.203125 64.59375 \r\nz\r\n\" id=\"DejaVuSans-55\"/>\r\n      </defs>\r\n      <g transform=\"translate(7.2 205.884593)scale(0.1 -0.1)\">\r\n       <use xlink:href=\"#DejaVuSans-48\"/>\r\n       <use x=\"63.623047\" xlink:href=\"#DejaVuSans-46\"/>\r\n       <use x=\"95.410156\" xlink:href=\"#DejaVuSans-53\"/>\r\n       <use x=\"159.033203\" xlink:href=\"#DejaVuSans-55\"/>\r\n       <use x=\"222.65625\" xlink:href=\"#DejaVuSans-53\"/>\r\n      </g>\r\n     </g>\r\n    </g>\r\n    <g id=\"ytick_3\">\r\n     <g id=\"line2d_10\">\r\n      <g>\r\n       <use style=\"stroke:#000000;stroke-width:0.8;\" x=\"42.828125\" xlink:href=\"#m86a868c881\" y=\"176.847638\"/>\r\n      </g>\r\n     </g>\r\n     <g id=\"text_10\">\r\n      <!-- 0.600 -->\r\n      <g transform=\"translate(7.2 180.646857)scale(0.1 -0.1)\">\r\n       <use xlink:href=\"#DejaVuSans-48\"/>\r\n       <use x=\"63.623047\" xlink:href=\"#DejaVuSans-46\"/>\r\n       <use x=\"95.410156\" xlink:href=\"#DejaVuSans-54\"/>\r\n       <use x=\"159.033203\" xlink:href=\"#DejaVuSans-48\"/>\r\n       <use x=\"222.65625\" xlink:href=\"#DejaVuSans-48\"/>\r\n      </g>\r\n     </g>\r\n    </g>\r\n    <g id=\"ytick_4\">\r\n     <g id=\"line2d_11\">\r\n      <g>\r\n       <use style=\"stroke:#000000;stroke-width:0.8;\" x=\"42.828125\" xlink:href=\"#m86a868c881\" y=\"151.609902\"/>\r\n      </g>\r\n     </g>\r\n     <g id=\"text_11\">\r\n      <!-- 0.625 -->\r\n      <g transform=\"translate(7.2 155.409121)scale(0.1 -0.1)\">\r\n       <use xlink:href=\"#DejaVuSans-48\"/>\r\n       <use x=\"63.623047\" xlink:href=\"#DejaVuSans-46\"/>\r\n       <use x=\"95.410156\" xlink:href=\"#DejaVuSans-54\"/>\r\n       <use x=\"159.033203\" xlink:href=\"#DejaVuSans-50\"/>\r\n       <use x=\"222.65625\" xlink:href=\"#DejaVuSans-53\"/>\r\n      </g>\r\n     </g>\r\n    </g>\r\n    <g id=\"ytick_5\">\r\n     <g id=\"line2d_12\">\r\n      <g>\r\n       <use style=\"stroke:#000000;stroke-width:0.8;\" x=\"42.828125\" xlink:href=\"#m86a868c881\" y=\"126.372166\"/>\r\n      </g>\r\n     </g>\r\n     <g id=\"text_12\">\r\n      <!-- 0.650 -->\r\n      <g transform=\"translate(7.2 130.171385)scale(0.1 -0.1)\">\r\n       <use xlink:href=\"#DejaVuSans-48\"/>\r\n       <use x=\"63.623047\" xlink:href=\"#DejaVuSans-46\"/>\r\n       <use x=\"95.410156\" xlink:href=\"#DejaVuSans-54\"/>\r\n       <use x=\"159.033203\" xlink:href=\"#DejaVuSans-53\"/>\r\n       <use x=\"222.65625\" xlink:href=\"#DejaVuSans-48\"/>\r\n      </g>\r\n     </g>\r\n    </g>\r\n    <g id=\"ytick_6\">\r\n     <g id=\"line2d_13\">\r\n      <g>\r\n       <use style=\"stroke:#000000;stroke-width:0.8;\" x=\"42.828125\" xlink:href=\"#m86a868c881\" y=\"101.13443\"/>\r\n      </g>\r\n     </g>\r\n     <g id=\"text_13\">\r\n      <!-- 0.675 -->\r\n      <g transform=\"translate(7.2 104.933648)scale(0.1 -0.1)\">\r\n       <use xlink:href=\"#DejaVuSans-48\"/>\r\n       <use x=\"63.623047\" xlink:href=\"#DejaVuSans-46\"/>\r\n       <use x=\"95.410156\" xlink:href=\"#DejaVuSans-54\"/>\r\n       <use x=\"159.033203\" xlink:href=\"#DejaVuSans-55\"/>\r\n       <use x=\"222.65625\" xlink:href=\"#DejaVuSans-53\"/>\r\n      </g>\r\n     </g>\r\n    </g>\r\n    <g id=\"ytick_7\">\r\n     <g id=\"line2d_14\">\r\n      <g>\r\n       <use style=\"stroke:#000000;stroke-width:0.8;\" x=\"42.828125\" xlink:href=\"#m86a868c881\" y=\"75.896693\"/>\r\n      </g>\r\n     </g>\r\n     <g id=\"text_14\">\r\n      <!-- 0.700 -->\r\n      <g transform=\"translate(7.2 79.695912)scale(0.1 -0.1)\">\r\n       <use xlink:href=\"#DejaVuSans-48\"/>\r\n       <use x=\"63.623047\" xlink:href=\"#DejaVuSans-46\"/>\r\n       <use x=\"95.410156\" xlink:href=\"#DejaVuSans-55\"/>\r\n       <use x=\"159.033203\" xlink:href=\"#DejaVuSans-48\"/>\r\n       <use x=\"222.65625\" xlink:href=\"#DejaVuSans-48\"/>\r\n      </g>\r\n     </g>\r\n    </g>\r\n    <g id=\"ytick_8\">\r\n     <g id=\"line2d_15\">\r\n      <g>\r\n       <use style=\"stroke:#000000;stroke-width:0.8;\" x=\"42.828125\" xlink:href=\"#m86a868c881\" y=\"50.658957\"/>\r\n      </g>\r\n     </g>\r\n     <g id=\"text_15\">\r\n      <!-- 0.725 -->\r\n      <g transform=\"translate(7.2 54.458176)scale(0.1 -0.1)\">\r\n       <use xlink:href=\"#DejaVuSans-48\"/>\r\n       <use x=\"63.623047\" xlink:href=\"#DejaVuSans-46\"/>\r\n       <use x=\"95.410156\" xlink:href=\"#DejaVuSans-55\"/>\r\n       <use x=\"159.033203\" xlink:href=\"#DejaVuSans-50\"/>\r\n       <use x=\"222.65625\" xlink:href=\"#DejaVuSans-53\"/>\r\n      </g>\r\n     </g>\r\n    </g>\r\n    <g id=\"ytick_9\">\r\n     <g id=\"line2d_16\">\r\n      <g>\r\n       <use style=\"stroke:#000000;stroke-width:0.8;\" x=\"42.828125\" xlink:href=\"#m86a868c881\" y=\"25.421221\"/>\r\n      </g>\r\n     </g>\r\n     <g id=\"text_16\">\r\n      <!-- 0.750 -->\r\n      <g transform=\"translate(7.2 29.22044)scale(0.1 -0.1)\">\r\n       <use xlink:href=\"#DejaVuSans-48\"/>\r\n       <use x=\"63.623047\" xlink:href=\"#DejaVuSans-46\"/>\r\n       <use x=\"95.410156\" xlink:href=\"#DejaVuSans-55\"/>\r\n       <use x=\"159.033203\" xlink:href=\"#DejaVuSans-53\"/>\r\n       <use x=\"222.65625\" xlink:href=\"#DejaVuSans-48\"/>\r\n      </g>\r\n     </g>\r\n    </g>\r\n   </g>\r\n   <g id=\"line2d_17\">\r\n    <path clip-path=\"url(#p6fc950a037)\" d=\"M 58.046307 32.201761 \r\nL 108.77358 78.792396 \r\nL 159.500852 91.235612 \r\nL 210.228125 71.166507 \r\nL 260.955398 60.064573 \r\nL 311.68267 60.730792 \r\nL 362.409943 58.590433 \r\n\" style=\"fill:none;stroke:#ff0000;stroke-linecap:square;stroke-width:1.5;\"/>\r\n   </g>\r\n   <g id=\"line2d_18\">\r\n    <path clip-path=\"url(#p6fc950a037)\" d=\"M 58.046307 163.314754 \r\nL 108.77358 218.069632 \r\nL 159.500852 195.253039 \r\nL 210.228125 218.452142 \r\nL 260.955398 229.874489 \r\nL 311.68267 209.443152 \r\nL 362.409943 209.144822 \r\n\" style=\"fill:none;stroke:#0000ff;stroke-linecap:square;stroke-width:1.5;\"/>\r\n   </g>\r\n   <g id=\"patch_3\">\r\n    <path d=\"M 42.828125 239.758125 \r\nL 42.828125 22.318125 \r\n\" style=\"fill:none;stroke:#000000;stroke-linecap:square;stroke-linejoin:miter;stroke-width:0.8;\"/>\r\n   </g>\r\n   <g id=\"patch_4\">\r\n    <path d=\"M 377.628125 239.758125 \r\nL 377.628125 22.318125 \r\n\" style=\"fill:none;stroke:#000000;stroke-linecap:square;stroke-linejoin:miter;stroke-width:0.8;\"/>\r\n   </g>\r\n   <g id=\"patch_5\">\r\n    <path d=\"M 42.828125 239.758125 \r\nL 377.628125 239.758125 \r\n\" style=\"fill:none;stroke:#000000;stroke-linecap:square;stroke-linejoin:miter;stroke-width:0.8;\"/>\r\n   </g>\r\n   <g id=\"patch_6\">\r\n    <path d=\"M 42.828125 22.318125 \r\nL 377.628125 22.318125 \r\n\" style=\"fill:none;stroke:#000000;stroke-linecap:square;stroke-linejoin:miter;stroke-width:0.8;\"/>\r\n   </g>\r\n   <g id=\"text_17\">\r\n    <!-- Loss -->\r\n    <defs>\r\n     <path d=\"M 9.8125 72.90625 \r\nL 19.671875 72.90625 \r\nL 19.671875 8.296875 \r\nL 55.171875 8.296875 \r\nL 55.171875 0 \r\nL 9.8125 0 \r\nz\r\n\" id=\"DejaVuSans-76\"/>\r\n     <path d=\"M 30.609375 48.390625 \r\nQ 23.390625 48.390625 19.1875 42.75 \r\nQ 14.984375 37.109375 14.984375 27.296875 \r\nQ 14.984375 17.484375 19.15625 11.84375 \r\nQ 23.34375 6.203125 30.609375 6.203125 \r\nQ 37.796875 6.203125 41.984375 11.859375 \r\nQ 46.1875 17.53125 46.1875 27.296875 \r\nQ 46.1875 37.015625 41.984375 42.703125 \r\nQ 37.796875 48.390625 30.609375 48.390625 \r\nz\r\nM 30.609375 56 \r\nQ 42.328125 56 49.015625 48.375 \r\nQ 55.71875 40.765625 55.71875 27.296875 \r\nQ 55.71875 13.875 49.015625 6.21875 \r\nQ 42.328125 -1.421875 30.609375 -1.421875 \r\nQ 18.84375 -1.421875 12.171875 6.21875 \r\nQ 5.515625 13.875 5.515625 27.296875 \r\nQ 5.515625 40.765625 12.171875 48.375 \r\nQ 18.84375 56 30.609375 56 \r\nz\r\n\" id=\"DejaVuSans-111\"/>\r\n     <path d=\"M 44.28125 53.078125 \r\nL 44.28125 44.578125 \r\nQ 40.484375 46.53125 36.375 47.5 \r\nQ 32.28125 48.484375 27.875 48.484375 \r\nQ 21.1875 48.484375 17.84375 46.4375 \r\nQ 14.5 44.390625 14.5 40.28125 \r\nQ 14.5 37.15625 16.890625 35.375 \r\nQ 19.28125 33.59375 26.515625 31.984375 \r\nL 29.59375 31.296875 \r\nQ 39.15625 29.25 43.1875 25.515625 \r\nQ 47.21875 21.78125 47.21875 15.09375 \r\nQ 47.21875 7.46875 41.1875 3.015625 \r\nQ 35.15625 -1.421875 24.609375 -1.421875 \r\nQ 20.21875 -1.421875 15.453125 -0.5625 \r\nQ 10.6875 0.296875 5.421875 2 \r\nL 5.421875 11.28125 \r\nQ 10.40625 8.6875 15.234375 7.390625 \r\nQ 20.0625 6.109375 24.8125 6.109375 \r\nQ 31.15625 6.109375 34.5625 8.28125 \r\nQ 37.984375 10.453125 37.984375 14.40625 \r\nQ 37.984375 18.0625 35.515625 20.015625 \r\nQ 33.0625 21.96875 24.703125 23.78125 \r\nL 21.578125 24.515625 \r\nQ 13.234375 26.265625 9.515625 29.90625 \r\nQ 5.8125 33.546875 5.8125 39.890625 \r\nQ 5.8125 47.609375 11.28125 51.796875 \r\nQ 16.75 56 26.8125 56 \r\nQ 31.78125 56 36.171875 55.265625 \r\nQ 40.578125 54.546875 44.28125 53.078125 \r\nz\r\n\" id=\"DejaVuSans-115\"/>\r\n    </defs>\r\n    <g transform=\"translate(196.963437 16.318125)scale(0.12 -0.12)\">\r\n     <use xlink:href=\"#DejaVuSans-76\"/>\r\n     <use x=\"55.697266\" xlink:href=\"#DejaVuSans-111\"/>\r\n     <use x=\"116.878906\" xlink:href=\"#DejaVuSans-115\"/>\r\n     <use x=\"168.978516\" xlink:href=\"#DejaVuSans-115\"/>\r\n    </g>\r\n   </g>\r\n   <g id=\"legend_1\">\r\n    <g id=\"patch_7\">\r\n     <path d=\"M 288.482813 147.21625 \r\nL 370.628125 147.21625 \r\nQ 372.628125 147.21625 372.628125 145.21625 \r\nL 372.628125 116.86 \r\nQ 372.628125 114.86 370.628125 114.86 \r\nL 288.482813 114.86 \r\nQ 286.482813 114.86 286.482813 116.86 \r\nL 286.482813 145.21625 \r\nQ 286.482813 147.21625 288.482813 147.21625 \r\nz\r\n\" style=\"fill:#ffffff;opacity:0.8;stroke:#cccccc;stroke-linejoin:miter;\"/>\r\n    </g>\r\n    <g id=\"line2d_19\">\r\n     <path d=\"M 290.482813 122.958438 \r\nL 310.482813 122.958438 \r\n\" style=\"fill:none;stroke:#ff0000;stroke-linecap:square;stroke-width:1.5;\"/>\r\n    </g>\r\n    <g id=\"line2d_20\"/>\r\n    <g id=\"text_18\">\r\n     <!-- Validation -->\r\n     <defs>\r\n      <path d=\"M 28.609375 0 \r\nL 0.78125 72.90625 \r\nL 11.078125 72.90625 \r\nL 34.1875 11.53125 \r\nL 57.328125 72.90625 \r\nL 67.578125 72.90625 \r\nL 39.796875 0 \r\nz\r\n\" id=\"DejaVuSans-86\"/>\r\n      <path d=\"M 34.28125 27.484375 \r\nQ 23.390625 27.484375 19.1875 25 \r\nQ 14.984375 22.515625 14.984375 16.5 \r\nQ 14.984375 11.71875 18.140625 8.90625 \r\nQ 21.296875 6.109375 26.703125 6.109375 \r\nQ 34.1875 6.109375 38.703125 11.40625 \r\nQ 43.21875 16.703125 43.21875 25.484375 \r\nL 43.21875 27.484375 \r\nz\r\nM 52.203125 31.203125 \r\nL 52.203125 0 \r\nL 43.21875 0 \r\nL 43.21875 8.296875 \r\nQ 40.140625 3.328125 35.546875 0.953125 \r\nQ 30.953125 -1.421875 24.3125 -1.421875 \r\nQ 15.921875 -1.421875 10.953125 3.296875 \r\nQ 6 8.015625 6 15.921875 \r\nQ 6 25.140625 12.171875 29.828125 \r\nQ 18.359375 34.515625 30.609375 34.515625 \r\nL 43.21875 34.515625 \r\nL 43.21875 35.40625 \r\nQ 43.21875 41.609375 39.140625 45 \r\nQ 35.0625 48.390625 27.6875 48.390625 \r\nQ 23 48.390625 18.546875 47.265625 \r\nQ 14.109375 46.140625 10.015625 43.890625 \r\nL 10.015625 52.203125 \r\nQ 14.9375 54.109375 19.578125 55.046875 \r\nQ 24.21875 56 28.609375 56 \r\nQ 40.484375 56 46.34375 49.84375 \r\nQ 52.203125 43.703125 52.203125 31.203125 \r\nz\r\n\" id=\"DejaVuSans-97\"/>\r\n      <path d=\"M 9.421875 75.984375 \r\nL 18.40625 75.984375 \r\nL 18.40625 0 \r\nL 9.421875 0 \r\nz\r\n\" id=\"DejaVuSans-108\"/>\r\n      <path d=\"M 9.421875 54.6875 \r\nL 18.40625 54.6875 \r\nL 18.40625 0 \r\nL 9.421875 0 \r\nz\r\nM 9.421875 75.984375 \r\nL 18.40625 75.984375 \r\nL 18.40625 64.59375 \r\nL 9.421875 64.59375 \r\nz\r\n\" id=\"DejaVuSans-105\"/>\r\n      <path d=\"M 45.40625 46.390625 \r\nL 45.40625 75.984375 \r\nL 54.390625 75.984375 \r\nL 54.390625 0 \r\nL 45.40625 0 \r\nL 45.40625 8.203125 \r\nQ 42.578125 3.328125 38.25 0.953125 \r\nQ 33.9375 -1.421875 27.875 -1.421875 \r\nQ 17.96875 -1.421875 11.734375 6.484375 \r\nQ 5.515625 14.40625 5.515625 27.296875 \r\nQ 5.515625 40.1875 11.734375 48.09375 \r\nQ 17.96875 56 27.875 56 \r\nQ 33.9375 56 38.25 53.625 \r\nQ 42.578125 51.265625 45.40625 46.390625 \r\nz\r\nM 14.796875 27.296875 \r\nQ 14.796875 17.390625 18.875 11.75 \r\nQ 22.953125 6.109375 30.078125 6.109375 \r\nQ 37.203125 6.109375 41.296875 11.75 \r\nQ 45.40625 17.390625 45.40625 27.296875 \r\nQ 45.40625 37.203125 41.296875 42.84375 \r\nQ 37.203125 48.484375 30.078125 48.484375 \r\nQ 22.953125 48.484375 18.875 42.84375 \r\nQ 14.796875 37.203125 14.796875 27.296875 \r\nz\r\n\" id=\"DejaVuSans-100\"/>\r\n      <path d=\"M 18.3125 70.21875 \r\nL 18.3125 54.6875 \r\nL 36.8125 54.6875 \r\nL 36.8125 47.703125 \r\nL 18.3125 47.703125 \r\nL 18.3125 18.015625 \r\nQ 18.3125 11.328125 20.140625 9.421875 \r\nQ 21.96875 7.515625 27.59375 7.515625 \r\nL 36.8125 7.515625 \r\nL 36.8125 0 \r\nL 27.59375 0 \r\nQ 17.1875 0 13.234375 3.875 \r\nQ 9.28125 7.765625 9.28125 18.015625 \r\nL 9.28125 47.703125 \r\nL 2.6875 47.703125 \r\nL 2.6875 54.6875 \r\nL 9.28125 54.6875 \r\nL 9.28125 70.21875 \r\nz\r\n\" id=\"DejaVuSans-116\"/>\r\n      <path d=\"M 54.890625 33.015625 \r\nL 54.890625 0 \r\nL 45.90625 0 \r\nL 45.90625 32.71875 \r\nQ 45.90625 40.484375 42.875 44.328125 \r\nQ 39.84375 48.1875 33.796875 48.1875 \r\nQ 26.515625 48.1875 22.3125 43.546875 \r\nQ 18.109375 38.921875 18.109375 30.90625 \r\nL 18.109375 0 \r\nL 9.078125 0 \r\nL 9.078125 54.6875 \r\nL 18.109375 54.6875 \r\nL 18.109375 46.1875 \r\nQ 21.34375 51.125 25.703125 53.5625 \r\nQ 30.078125 56 35.796875 56 \r\nQ 45.21875 56 50.046875 50.171875 \r\nQ 54.890625 44.34375 54.890625 33.015625 \r\nz\r\n\" id=\"DejaVuSans-110\"/>\r\n     </defs>\r\n     <g transform=\"translate(318.482813 126.458438)scale(0.1 -0.1)\">\r\n      <use xlink:href=\"#DejaVuSans-86\"/>\r\n      <use x=\"68.298828\" xlink:href=\"#DejaVuSans-97\"/>\r\n      <use x=\"129.578125\" xlink:href=\"#DejaVuSans-108\"/>\r\n      <use x=\"157.361328\" xlink:href=\"#DejaVuSans-105\"/>\r\n      <use x=\"185.144531\" xlink:href=\"#DejaVuSans-100\"/>\r\n      <use x=\"248.621094\" xlink:href=\"#DejaVuSans-97\"/>\r\n      <use x=\"309.900391\" xlink:href=\"#DejaVuSans-116\"/>\r\n      <use x=\"349.109375\" xlink:href=\"#DejaVuSans-105\"/>\r\n      <use x=\"376.892578\" xlink:href=\"#DejaVuSans-111\"/>\r\n      <use x=\"438.074219\" xlink:href=\"#DejaVuSans-110\"/>\r\n     </g>\r\n    </g>\r\n    <g id=\"line2d_21\">\r\n     <path d=\"M 290.482813 137.636562 \r\nL 310.482813 137.636562 \r\n\" style=\"fill:none;stroke:#0000ff;stroke-linecap:square;stroke-width:1.5;\"/>\r\n    </g>\r\n    <g id=\"line2d_22\"/>\r\n    <g id=\"text_19\">\r\n     <!-- Training -->\r\n     <defs>\r\n      <path d=\"M -0.296875 72.90625 \r\nL 61.375 72.90625 \r\nL 61.375 64.59375 \r\nL 35.5 64.59375 \r\nL 35.5 0 \r\nL 25.59375 0 \r\nL 25.59375 64.59375 \r\nL -0.296875 64.59375 \r\nz\r\n\" id=\"DejaVuSans-84\"/>\r\n      <path d=\"M 41.109375 46.296875 \r\nQ 39.59375 47.171875 37.8125 47.578125 \r\nQ 36.03125 48 33.890625 48 \r\nQ 26.265625 48 22.1875 43.046875 \r\nQ 18.109375 38.09375 18.109375 28.8125 \r\nL 18.109375 0 \r\nL 9.078125 0 \r\nL 9.078125 54.6875 \r\nL 18.109375 54.6875 \r\nL 18.109375 46.1875 \r\nQ 20.953125 51.171875 25.484375 53.578125 \r\nQ 30.03125 56 36.53125 56 \r\nQ 37.453125 56 38.578125 55.875 \r\nQ 39.703125 55.765625 41.0625 55.515625 \r\nz\r\n\" id=\"DejaVuSans-114\"/>\r\n      <path d=\"M 45.40625 27.984375 \r\nQ 45.40625 37.75 41.375 43.109375 \r\nQ 37.359375 48.484375 30.078125 48.484375 \r\nQ 22.859375 48.484375 18.828125 43.109375 \r\nQ 14.796875 37.75 14.796875 27.984375 \r\nQ 14.796875 18.265625 18.828125 12.890625 \r\nQ 22.859375 7.515625 30.078125 7.515625 \r\nQ 37.359375 7.515625 41.375 12.890625 \r\nQ 45.40625 18.265625 45.40625 27.984375 \r\nz\r\nM 54.390625 6.78125 \r\nQ 54.390625 -7.171875 48.1875 -13.984375 \r\nQ 42 -20.796875 29.203125 -20.796875 \r\nQ 24.46875 -20.796875 20.265625 -20.09375 \r\nQ 16.0625 -19.390625 12.109375 -17.921875 \r\nL 12.109375 -9.1875 \r\nQ 16.0625 -11.328125 19.921875 -12.34375 \r\nQ 23.78125 -13.375 27.78125 -13.375 \r\nQ 36.625 -13.375 41.015625 -8.765625 \r\nQ 45.40625 -4.15625 45.40625 5.171875 \r\nL 45.40625 9.625 \r\nQ 42.625 4.78125 38.28125 2.390625 \r\nQ 33.9375 0 27.875 0 \r\nQ 17.828125 0 11.671875 7.65625 \r\nQ 5.515625 15.328125 5.515625 27.984375 \r\nQ 5.515625 40.671875 11.671875 48.328125 \r\nQ 17.828125 56 27.875 56 \r\nQ 33.9375 56 38.28125 53.609375 \r\nQ 42.625 51.21875 45.40625 46.390625 \r\nL 45.40625 54.6875 \r\nL 54.390625 54.6875 \r\nz\r\n\" id=\"DejaVuSans-103\"/>\r\n     </defs>\r\n     <g transform=\"translate(318.482813 141.136562)scale(0.1 -0.1)\">\r\n      <use xlink:href=\"#DejaVuSans-84\"/>\r\n      <use x=\"60.865234\" xlink:href=\"#DejaVuSans-114\"/>\r\n      <use x=\"101.978516\" xlink:href=\"#DejaVuSans-97\"/>\r\n      <use x=\"163.257812\" xlink:href=\"#DejaVuSans-105\"/>\r\n      <use x=\"191.041016\" xlink:href=\"#DejaVuSans-110\"/>\r\n      <use x=\"254.419922\" xlink:href=\"#DejaVuSans-105\"/>\r\n      <use x=\"282.203125\" xlink:href=\"#DejaVuSans-110\"/>\r\n      <use x=\"345.582031\" xlink:href=\"#DejaVuSans-103\"/>\r\n     </g>\r\n    </g>\r\n   </g>\r\n  </g>\r\n </g>\r\n <defs>\r\n  <clipPath id=\"p6fc950a037\">\r\n   <rect height=\"217.44\" width=\"334.8\" x=\"42.828125\" y=\"22.318125\"/>\r\n  </clipPath>\r\n </defs>\r\n</svg>\r\n",
      "image/png": "[encoded data removed]"
     },
     "metadata": {
      "needs_background": "light"
     }
    }
   ],
   "source": [
    "plt.plot(history.history['val_loss'], color = 'red')\n",
    "plt.plot(history.history['loss'], color = 'blue')\n",
    "plt.legend(['Validation', 'Training'])\n",
    "plt.title('Loss')\n",
    "plt.show()"
   ]
  },
  {
   "cell_type": "code",
   "execution_count": 34,
   "metadata": {},
   "outputs": [],
   "source": [
    "def save_model(model, suffix=None):\n",
    "  \"\"\"\n",
    "  Saves a given model in a models directory and appends a suffix (str)\n",
    "  for clarity and reuse.\n",
    "  \"\"\"\n",
    "  # Create model directory with current time\n",
    "  modeldir = os.path.join(\"models\",\n",
    "                          datetime.datetime.now().strftime(\"%Y%m%d%H%M%S\"))\n",
    "  model_path = modeldir + \"-\" + suffix + \".h5\" # save format of model\n",
    "  print(f\"Saving model to: {model_path}...\")\n",
    "  model.save(model_path)\n",
    "  return model_path"
   ]
  },
  {
   "cell_type": "code",
   "execution_count": 35,
   "metadata": {
    "tags": []
   },
   "outputs": [
    {
     "output_type": "stream",
     "name": "stdout",
     "text": "Saving model to: models\\20200719071746-EfficientNet3B_Img_Tab.h5...\n"
    },
    {
     "output_type": "execute_result",
     "data": {
      "text/plain": "'models\\\\20200719071746-EfficientNet3B_Img_Tab.h5'"
     },
     "metadata": {},
     "execution_count": 35
    }
   ],
   "source": [
    "sfx = \"EfficientNet3B_Img_Tab\"\n",
    "save_model(model, suffix=sfx)"
   ]
  }
 ],
 "metadata": {
  "language_info": {
   "codemirror_mode": {
    "name": "ipython",
    "version": 3
   },
   "file_extension": ".py",
   "mimetype": "text/x-python",
   "name": "python",
   "nbconvert_exporter": "python",
   "pygments_lexer": "ipython3",
   "version": "3.7.6-final"
  },
  "orig_nbformat": 2,
  "kernelspec": {
   "name": "python_defaultSpec_1594966892380",
   "display_name": "Python 3.7.6 64-bit ('base': conda)"
  }
 },
 "nbformat": 4,
 "nbformat_minor": 2
}