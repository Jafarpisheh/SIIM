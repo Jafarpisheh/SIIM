{
 "cells": [
  {
   "cell_type": "code",
   "execution_count": 1,
   "metadata": {},
   "outputs": [],
   "source": [
    "import pandas as pd\n",
    "import numpy as np\n",
    "from sklearn.model_selection import train_test_split\n",
    "import matplotlib.pyplot as plt\n",
    "import tensorflow as tf\n",
    "from IPython.display import display, Image\n",
    "from tensorflow.keras.models import Sequential\n",
    "from tensorflow.keras.layers import Dense, Flatten, Conv2D, MaxPooling2D\n",
    "\n",
    "import datetime\n",
    "import os"
   ]
  },
  {
   "cell_type": "code",
   "execution_count": 57,
   "metadata": {},
   "outputs": [],
   "source": [
    "def load_model(model_path):\n",
    "  \"\"\"\n",
    "  Loads a saved model from a specified path.\n",
    "  \"\"\"\n",
    "  print(f\"Loading saved model from: {model_path}\")\n",
    "  model = tf.keras.models.load_model(model_path)\n",
    "  return model"
   ]
  },
  {
   "cell_type": "code",
   "execution_count": 58,
   "metadata": {},
   "outputs": [],
   "source": [
    "IMG_SIZE = 264\n",
    "def process_image(img_path):\n",
    "  \"\"\"\n",
    "  Takes an image file path and turns it into a Tensor.\n",
    "  \"\"\"\n",
    "  image = tf.io.read_file(img_path)\n",
    "  image = tf.image.decode_jpeg(image, channels=3)\n",
    "  image = tf.image.convert_image_dtype(image, tf.float32)\n",
    "  image = tf.image.resize(image, size=[IMG_SIZE, IMG_SIZE])\n",
    "  return image"
   ]
  },
  {
   "cell_type": "code",
   "execution_count": 66,
   "metadata": {},
   "outputs": [],
   "source": [
    "def create_df(image, target):\n",
    "    image = process_image(image)\n",
    "    return image, target"
   ]
  },
  {
   "cell_type": "code",
   "execution_count": 67,
   "metadata": {},
   "outputs": [],
   "source": [
    "df_train = pd.read_csv('data/train.csv')\n",
    "filenames = ['data/jpeg/train/' + fname + '.jpg' for fname in df_train.image_name]\n",
    "\n",
    "targets= df_train.target\n",
    "\n",
    "X = filenames\n",
    "y = pd.get_dummies(targets)\n",
    "\n",
    "NUM_IMAGES = len(X)\n",
    "BATCH_SIZE = 32\n",
    "\n",
    "\n",
    "x_train, x_val, y_train, y_val = train_test_split(X[:NUM_IMAGES], y[:NUM_IMAGES], test_size = 0.2, random_state = 42)\n",
    "\n",
    "\n",
    "train_data = tf.data.Dataset.from_tensor_slices((tf.constant(x_train), tf.constant(y_train)))\n",
    "train_data = train_data.map(create_df).batch(BATCH_SIZE).shuffle(buffer_size=len(x_train))\n",
    "\n",
    "val_data = tf.data.Dataset.from_tensor_slices((tf.constant(x_val), tf.constant(y_val)))\n",
    "val_data = val_data.map(create_df).batch(BATCH_SIZE)"
   ]
  },
  {
   "cell_type": "code",
   "execution_count": 54,
   "metadata": {
    "tags": []
   },
   "outputs": [
    {
     "output_type": "stream",
     "name": "stdout",
     "text": "Loading saved model from: models/20200630074613-SGD004.h5\n"
    }
   ],
   "source": [
    "model = load_model('models/20200630074613-SGD004.h5')"
   ]
  },
  {
   "cell_type": "code",
   "execution_count": 68,
   "metadata": {
    "tags": []
   },
   "outputs": [
    {
     "output_type": "stream",
     "name": "stdout",
     "text": "208/208 [==============================] - 768s 4s/step - loss: 0.4159 - accuracy: 0.7772\n"
    },
    {
     "output_type": "execute_result",
     "data": {
      "text/plain": "[0.4159070551395416, 0.7772411704063416]"
     },
     "metadata": {},
     "execution_count": 68
    }
   ],
   "source": [
    "# Evaluate the loaded model\n",
    "model.evaluate(val_data, verbose = 1)"
   ]
  },
  {
   "cell_type": "code",
   "execution_count": 52,
   "metadata": {},
   "outputs": [],
   "source": [
    "df_test = pd.read_csv('data/test.csv')\n",
    "filenames_test = ['data/jpeg/test/' + fname + '.jpg' for fname in df_test.image_name]\n",
    "x_test = filenames_test"
   ]
  },
  {
   "cell_type": "code",
   "execution_count": null,
   "metadata": {},
   "outputs": [],
   "source": [
    "def create_df_test(image):\n",
    "    image = process_image(image)\n",
    "    return image"
   ]
  },
  {
   "cell_type": "code",
   "execution_count": 53,
   "metadata": {},
   "outputs": [],
   "source": [
    "test_data = tf.data.Dataset.from_tensor_slices(tf.constant(x_test))\n",
    "test_data = test_data.map(create_df_test).batch(BATCH_SIZE)"
   ]
  },
  {
   "cell_type": "code",
   "execution_count": 55,
   "metadata": {
    "tags": []
   },
   "outputs": [
    {
     "output_type": "stream",
     "name": "stdout",
     "text": "344/344 [==============================] - 1106s 3s/step\n"
    }
   ],
   "source": [
    "pred_test=model.predict(test_data, verbose=1)"
   ]
  },
  {
   "cell_type": "code",
   "execution_count": 69,
   "metadata": {},
   "outputs": [
    {
     "output_type": "execute_result",
     "data": {
      "text/plain": "<BatchDataset shapes: (None, 264, 264, 3), types: tf.float32>"
     },
     "metadata": {},
     "execution_count": 69
    }
   ],
   "source": [
    "test_data"
   ]
  },
  {
   "cell_type": "code",
   "execution_count": 71,
   "metadata": {},
   "outputs": [],
   "source": [
    "image_name = df_test.image_name\n",
    "target = []\n",
    "for t in range(0,len(pred_test)):\n",
    "    target.append(np.argmax(pred_test[t]))"
   ]
  },
  {
   "cell_type": "code",
   "execution_count": 72,
   "metadata": {},
   "outputs": [],
   "source": [
    "submission_df = pd.DataFrame(columns=['image_name']+['target'])"
   ]
  },
  {
   "cell_type": "code",
   "execution_count": 73,
   "metadata": {},
   "outputs": [],
   "source": [
    "submission_df['image_name']= list(image_name)\n",
    "submission_df['target'] = target"
   ]
  },
  {
   "cell_type": "code",
   "execution_count": 75,
   "metadata": {},
   "outputs": [],
   "source": [
    "submission_df.to_csv('Submission/Submission.csv', index = False)"
   ]
  },
  {
   "cell_type": "code",
   "execution_count": null,
   "metadata": {},
   "outputs": [],
   "source": []
  }
 ],
 "metadata": {
  "language_info": {
   "codemirror_mode": {
    "name": "ipython",
    "version": 3
   },
   "file_extension": ".py",
   "mimetype": "text/x-python",
   "name": "python",
   "nbconvert_exporter": "python",
   "pygments_lexer": "ipython3",
   "version": "3.7.6-final"
  },
  "orig_nbformat": 2,
  "kernelspec": {
   "name": "python37664bitbaseconda34da6599a38a4f5dafff66bff14cb58f",
   "display_name": "Python 3.7.6 64-bit ('base': conda)"
  }
 },
 "nbformat": 4,
 "nbformat_minor": 2
}